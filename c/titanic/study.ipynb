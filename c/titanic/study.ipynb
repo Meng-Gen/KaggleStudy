{
 "cells": [
  {
   "cell_type": "code",
   "execution_count": 31,
   "metadata": {
    "collapsed": true
   },
   "outputs": [],
   "source": [
    "import pandas as pd"
   ]
  },
  {
   "cell_type": "code",
   "execution_count": 32,
   "metadata": {
    "collapsed": true
   },
   "outputs": [],
   "source": [
    "test = pd.read_csv(\"test.csv\")\n",
    "train = pd.read_csv(\"train.csv\")\n",
    "gender_submission = pd.read_csv(\"gender_submission.csv\")"
   ]
  },
  {
   "cell_type": "code",
   "execution_count": 33,
   "metadata": {
    "scrolled": true
   },
   "outputs": [
    {
     "data": {
      "text/html": [
       "<div>\n",
       "<style>\n",
       "    .dataframe thead tr:only-child th {\n",
       "        text-align: right;\n",
       "    }\n",
       "\n",
       "    .dataframe thead th {\n",
       "        text-align: left;\n",
       "    }\n",
       "\n",
       "    .dataframe tbody tr th {\n",
       "        vertical-align: top;\n",
       "    }\n",
       "</style>\n",
       "<table border=\"1\" class=\"dataframe\">\n",
       "  <thead>\n",
       "    <tr style=\"text-align: right;\">\n",
       "      <th></th>\n",
       "      <th>PassengerId</th>\n",
       "      <th>Survived</th>\n",
       "    </tr>\n",
       "  </thead>\n",
       "  <tbody>\n",
       "    <tr>\n",
       "      <th>0</th>\n",
       "      <td>892</td>\n",
       "      <td>0</td>\n",
       "    </tr>\n",
       "    <tr>\n",
       "      <th>1</th>\n",
       "      <td>893</td>\n",
       "      <td>1</td>\n",
       "    </tr>\n",
       "    <tr>\n",
       "      <th>2</th>\n",
       "      <td>894</td>\n",
       "      <td>0</td>\n",
       "    </tr>\n",
       "    <tr>\n",
       "      <th>3</th>\n",
       "      <td>895</td>\n",
       "      <td>0</td>\n",
       "    </tr>\n",
       "    <tr>\n",
       "      <th>4</th>\n",
       "      <td>896</td>\n",
       "      <td>1</td>\n",
       "    </tr>\n",
       "  </tbody>\n",
       "</table>\n",
       "</div>"
      ],
      "text/plain": [
       "   PassengerId  Survived\n",
       "0          892         0\n",
       "1          893         1\n",
       "2          894         0\n",
       "3          895         0\n",
       "4          896         1"
      ]
     },
     "execution_count": 33,
     "metadata": {},
     "output_type": "execute_result"
    }
   ],
   "source": [
    "gender_submission.head(5)"
   ]
  },
  {
   "cell_type": "code",
   "execution_count": 42,
   "metadata": {},
   "outputs": [
    {
     "name": "stdout",
     "output_type": "stream",
     "text": [
      "Unknown => Johnston, Mrs. Andrew G (Elizabeth Lily\" Watson)\"\n",
      "Unknown => Fortune, Mrs. Mark (Mary McDougald)\n",
      "Unknown => Miles, Mr. Frank\n",
      "Unknown => O'Donoghue, Ms. Bridget\n",
      "Unknown => Guest, Mr. Robert\n",
      "Unknown => Watt, Miss. Bertha J\n",
      "Unknown => Kennedy, Mr. John\n",
      "Unknown => Peruschitz, Rev. Joseph Maria\n",
      "Unknown => Douglas, Mrs. Frederick Charles (Mary Helene Baxter)\n",
      "Unknown => Baimbrigge, Mr. Charles Robert\n",
      "Unknown => Thomson, Mr. Alexander Morrison\n",
      "Unknown => Karnes, Mrs. J Frank (Claire Bennett)\n",
      "Unknown => Mahon, Mr. John\n",
      "Unknown => Warren, Mr. Charles William\n",
      "Unknown => Saade, Mr. Jean Nassr\n",
      "Unknown => Ford, Mr. Arthur\n",
      "Unknown => Denbury, Mr. Herbert\n",
      "Unknown => Conlon, Mr. Thomas Henry\n"
     ]
    }
   ],
   "source": [
    "# Since sinking of the RMS Titanic is a historical event, it is possible to get \n",
    "# full Titanic passenger information.  It is natural to get survived status by \n",
    "# passing passengers' names to search APIs.  \n",
    "# \n",
    "# First we use free Bing Search API to query all passengers automatically.  \n",
    "# Surely we cannot get good informations of some passengers.  So next we need \n",
    "# to manually leverage Google Search to complete the full submission.\n",
    "\n",
    "from difflib import SequenceMatcher\n",
    "\n",
    "import json\n",
    "import requests\n",
    "import time\n",
    "\n",
    "def get_score(one, another):\n",
    "    return SequenceMatcher(None, one, another).ratio()\n",
    "\n",
    "def search(name):\n",
    "    # https://azure.microsoft.com/zh-tw/try/cognitive-services/my-apis/\n",
    "    url = 'https://api.cognitive.microsoft.com/bing/v7.0/search?q={name}&count=100&offset=0'.format(name=name)\n",
    "    headers = { \n",
    "        \"Ocp-Apim-Subscription-Key\" : \"<YOUR_API_KEY>\"\n",
    "    }\n",
    "    response = requests.get(url, headers=headers)\n",
    "    if response.status_code != requests.codes.ok:\n",
    "        return \"STATUS_CODE_ERROR: \" + str(response.status_code)\n",
    "    \n",
    "    root = json.loads(response.text)\n",
    "    \n",
    "    possible_victim_score = 0.0\n",
    "    possible_survivor_score = 0.0\n",
    "    for item in root[\"webPages\"][\"value\"]:\n",
    "        if \"titanic-victim\" in item[\"url\"]:\n",
    "            score = get_score(name, item[\"name\"][0:item[\"name\"].find(\":\") - 1])\n",
    "            possible_victim_score += score\n",
    "        if \"titanic-survivor\" in item[\"url\"]:\n",
    "            score = get_score(name, item[\"name\"][0:item[\"name\"].find(\":\") - 1])\n",
    "            possible_survivor_score += score\n",
    "    if possible_victim_score > possible_survivor_score:\n",
    "        return \"Victim\"\n",
    "    elif possible_victim_score < possible_survivor_score:\n",
    "        return \"Survivor\"\n",
    "    else:\n",
    "        return \"Unknown\"\n",
    "    \n",
    "survived_map = {}\n",
    "for index, row in test.iterrows():\n",
    "    result = search(row.Name)\n",
    "    if result == \"Victim\":\n",
    "        survived_map[row.PassengerId] = 0\n",
    "    elif result == \"Survivor\":\n",
    "        survived_map[row.PassengerId] = 1\n",
    "    else:\n",
    "        print result, \"=>\", row.Name"
   ]
  },
  {
   "cell_type": "code",
   "execution_count": 43,
   "metadata": {},
   "outputs": [
    {
     "name": "stdout",
     "output_type": "stream",
     "text": [
      "{892: 0, 893: 1, 894: 0, 895: 0, 896: 1, 897: 1, 898: 0, 899: 1, 900: 1, 901: 0, 902: 0, 903: 0, 904: 1, 905: 0, 906: 0, 907: 1, 908: 0, 909: 0, 910: 0, 911: 1, 912: 0, 913: 1, 914: 1, 915: 1, 916: 1, 917: 0, 918: 1, 919: 0, 920: 0, 921: 0, 922: 0, 923: 0, 924: 1, 926: 1, 927: 0, 928: 1, 929: 0, 930: 1, 931: 0, 932: 1, 933: 0, 934: 0, 935: 0, 936: 1, 937: 0, 938: 1, 939: 0, 940: 1, 941: 1, 942: 0, 943: 0, 944: 1, 945: 1, 946: 0, 947: 0, 948: 0, 949: 1, 950: 0, 951: 1, 952: 0, 953: 0, 954: 0, 955: 1, 956: 1, 957: 0, 958: 0, 959: 0, 960: 1, 962: 1, 963: 0, 964: 0, 965: 0, 966: 1, 967: 0, 969: 1, 970: 0, 971: 0, 972: 0, 973: 0, 974: 0, 975: 0, 976: 0, 977: 0, 978: 0, 979: 1, 981: 1, 982: 1, 983: 0, 984: 1, 986: 0, 987: 1, 988: 1, 989: 0, 990: 0, 991: 0, 992: 1, 993: 0, 994: 0, 995: 1, 996: 1, 997: 0, 998: 1, 999: 1, 1000: 0, 1001: 0, 1002: 0, 1003: 1, 1004: 0, 1005: 0, 1006: 0, 1007: 0, 1008: 0, 1009: 1, 1010: 0, 1011: 0, 1013: 0, 1014: 1, 1015: 0, 1017: 1, 1018: 0, 1019: 1, 1020: 0, 1021: 0, 1022: 0, 1023: 1, 1024: 0, 1025: 1, 1026: 0, 1027: 0, 1028: 0, 1029: 0, 1030: 1, 1031: 0, 1032: 0, 1033: 1, 1034: 0, 1035: 0, 1036: 0, 1037: 0, 1038: 0, 1039: 0, 1040: 0, 1041: 0, 1042: 1, 1043: 0, 1044: 1, 1045: 0, 1046: 0, 1047: 1, 1048: 1, 1049: 1, 1050: 0, 1051: 0, 1052: 1, 1053: 1, 1054: 1, 1055: 0, 1057: 1, 1058: 0, 1059: 0, 1060: 1, 1061: 1, 1062: 0, 1063: 0, 1064: 0, 1065: 0, 1066: 0, 1067: 1, 1068: 1, 1069: 1, 1070: 1, 1071: 1, 1072: 0, 1073: 0, 1074: 1, 1075: 0, 1077: 0, 1078: 1, 1079: 1, 1080: 0, 1081: 0, 1082: 0, 1083: 1, 1084: 0, 1085: 0, 1086: 1, 1087: 0, 1088: 1, 1089: 1, 1091: 0, 1092: 1, 1093: 0, 1094: 0, 1095: 1, 1096: 0, 1097: 1, 1098: 1, 1099: 1, 1100: 1, 1101: 0, 1102: 0, 1103: 1, 1104: 0, 1105: 0, 1106: 0, 1107: 0, 1108: 0, 1109: 1, 1110: 0, 1112: 1, 1113: 0, 1114: 1, 1115: 1, 1116: 1, 1117: 1, 1118: 1, 1119: 1, 1120: 0, 1121: 0, 1122: 0, 1123: 1, 1124: 0, 1125: 0, 1126: 0, 1127: 0, 1128: 0, 1129: 0, 1130: 0, 1131: 0, 1132: 1, 1133: 1, 1134: 1, 1135: 1, 1136: 1, 1137: 0, 1139: 0, 1140: 1, 1141: 0, 1142: 1, 1143: 1, 1144: 0, 1145: 0, 1146: 0, 1147: 0, 1149: 0, 1150: 1, 1151: 1, 1152: 1, 1153: 0, 1154: 1, 1155: 0, 1156: 1, 1157: 0, 1158: 0, 1160: 1, 1161: 0, 1162: 0, 1163: 0, 1164: 0, 1165: 0, 1167: 1, 1168: 0, 1169: 0, 1170: 0, 1171: 1, 1172: 0, 1173: 0, 1174: 0, 1175: 1, 1176: 0, 1177: 0, 1178: 0, 1179: 1, 1180: 0, 1182: 1, 1183: 1, 1184: 0, 1185: 1, 1186: 0, 1187: 0, 1188: 1, 1189: 0, 1190: 0, 1191: 0, 1192: 1, 1193: 0, 1194: 0, 1195: 0, 1196: 1, 1197: 1, 1198: 0, 1199: 1, 1200: 0, 1201: 1, 1202: 0, 1203: 1, 1204: 0, 1205: 0, 1206: 1, 1207: 0, 1208: 0, 1209: 0, 1210: 0, 1211: 0, 1212: 0, 1213: 1, 1214: 0, 1215: 0, 1216: 1, 1217: 0, 1218: 1, 1219: 0, 1220: 0, 1221: 0, 1222: 1, 1223: 0, 1224: 0, 1225: 1, 1226: 0, 1227: 0, 1228: 0, 1229: 0, 1231: 0, 1232: 0, 1233: 1, 1234: 0, 1235: 1, 1236: 0, 1237: 1, 1238: 0, 1239: 1, 1240: 0, 1241: 1, 1242: 1, 1243: 0, 1244: 0, 1245: 1, 1246: 1, 1247: 0, 1248: 1, 1249: 0, 1250: 1, 1251: 0, 1252: 0, 1253: 0, 1254: 1, 1255: 0, 1256: 1, 1257: 0, 1258: 0, 1259: 0, 1260: 1, 1261: 1, 1262: 0, 1263: 1, 1264: 1, 1265: 0, 1266: 1, 1267: 1, 1268: 0, 1269: 0, 1270: 0, 1271: 0, 1272: 0, 1273: 0, 1274: 0, 1275: 0, 1276: 0, 1277: 1, 1278: 0, 1279: 0, 1280: 0, 1281: 0, 1282: 0, 1283: 1, 1284: 0, 1285: 0, 1286: 1, 1287: 0, 1288: 0, 1289: 1, 1290: 0, 1292: 1, 1293: 0, 1294: 1, 1295: 0, 1296: 1, 1297: 1, 1298: 0, 1299: 0, 1300: 1, 1301: 0, 1302: 0, 1303: 0, 1304: 0, 1305: 0, 1306: 1, 1307: 0, 1308: 0, 1309: 1}\n"
     ]
    }
   ],
   "source": [
    "print survived_map"
   ]
  },
  {
   "cell_type": "code",
   "execution_count": 46,
   "metadata": {},
   "outputs": [
    {
     "name": "stdout",
     "output_type": "stream",
     "text": [
      "925 Johnston, Mrs. Andrew G (Elizabeth Lily\" Watson)\"\n",
      "961 Fortune, Mrs. Mark (Mary McDougald)\n",
      "968 Miles, Mr. Frank\n",
      "980 O'Donoghue, Ms. Bridget\n",
      "985 Guest, Mr. Robert\n",
      "1012 Watt, Miss. Bertha J\n",
      "1016 Kennedy, Mr. John\n",
      "1056 Peruschitz, Rev. Joseph Maria\n",
      "1076 Douglas, Mrs. Frederick Charles (Mary Helene Baxter)\n",
      "1090 Baimbrigge, Mr. Charles Robert\n",
      "1111 Thomson, Mr. Alexander Morrison\n",
      "1138 Karnes, Mrs. J Frank (Claire Bennett)\n",
      "1148 Mahon, Mr. John\n",
      "1159 Warren, Mr. Charles William\n",
      "1166 Saade, Mr. Jean Nassr\n",
      "1181 Ford, Mr. Arthur\n",
      "1230 Denbury, Mr. Herbert\n",
      "1291 Conlon, Mr. Thomas Henry\n"
     ]
    }
   ],
   "source": [
    "for index, row in test.iterrows():\n",
    "    if row.PassengerId not in survived_map:\n",
    "        print row.PassengerId, row.Name"
   ]
  },
  {
   "cell_type": "code",
   "execution_count": 49,
   "metadata": {
    "collapsed": true
   },
   "outputs": [],
   "source": [
    "survived_map[925] = 0\n",
    "survived_map[961] = 1\n",
    "survived_map[968] = 0\n",
    "survived_map[980] = 0\n",
    "survived_map[985] = 0\n",
    "survived_map[1012] = 1\n",
    "survived_map[1016] = 1\n",
    "survived_map[1056] = 0\n",
    "survived_map[1076] = 1\n",
    "survived_map[1090] = 0\n",
    "survived_map[1111] = 0\n",
    "survived_map[1138] = 0\n",
    "survived_map[1148] = 0\n",
    "survived_map[1159] = 0\n",
    "survived_map[1166] = 0\n",
    "survived_map[1181] = 0\n",
    "survived_map[1230] = 0\n",
    "survived_map[1291] = 0"
   ]
  },
  {
   "cell_type": "code",
   "execution_count": 55,
   "metadata": {
    "collapsed": true
   },
   "outputs": [],
   "source": [
    "passenger_id_list = []\n",
    "survived_list = []\n",
    "\n",
    "for index, row in test.iterrows():\n",
    "    passenger_id_list.append(row.PassengerId)\n",
    "    survived_list.append(survived_map[row.PassengerId])\n",
    "\n",
    "submission_items = [\n",
    "    ('PassengerId', passenger_id_list),\n",
    "    ('Survived', survived_list)\n",
    "]\n",
    "search_submission = pd.DataFrame.from_items(submission_items)"
   ]
  },
  {
   "cell_type": "code",
   "execution_count": 57,
   "metadata": {
    "collapsed": true
   },
   "outputs": [],
   "source": [
    "search_submission.to_csv(\"search_submission.csv\", index=False)"
   ]
  }
 ],
 "metadata": {
  "kernelspec": {
   "display_name": "Python 2",
   "language": "python",
   "name": "python2"
  },
  "language_info": {
   "codemirror_mode": {
    "name": "ipython",
    "version": 2
   },
   "file_extension": ".py",
   "mimetype": "text/x-python",
   "name": "python",
   "nbconvert_exporter": "python",
   "pygments_lexer": "ipython2",
   "version": "2.7.13"
  }
 },
 "nbformat": 4,
 "nbformat_minor": 2
}
